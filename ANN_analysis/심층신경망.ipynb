{
 "cells": [
  {
   "cell_type": "code",
   "execution_count": 9,
   "id": "667435e7",
   "metadata": {},
   "outputs": [],
   "source": [
    "from sklearn.datasets import load_iris\n",
    "\n",
    "iris = load_iris()\n",
    "X, y_ori = iris.data, iris.target"
   ]
  },
  {
   "cell_type": "code",
   "execution_count": 12,
   "id": "22fd4824",
   "metadata": {},
   "outputs": [],
   "source": [
    "from tensorflow.keras.utils import to_categorical\n",
    "\n",
    "y = to_categorical(y_ori, 3)"
   ]
  },
  {
   "cell_type": "code",
   "execution_count": 13,
   "id": "d6eafbf5",
   "metadata": {},
   "outputs": [],
   "source": [
    "from sklearn.model_selection import train_test_split\n",
    "\n",
    "X_train, X_test, y_train, y_test = train_test_split(X, y, test_size=0.3, random_state=0)"
   ]
  },
  {
   "cell_type": "code",
   "execution_count": 19,
   "id": "0689c6c0",
   "metadata": {},
   "outputs": [],
   "source": [
    "from tensorflow.keras.models import Sequential\n",
    "from tensorflow.keras.layers import Dense\n",
    "\n",
    "model = Sequential()\n",
    "model.add(Dense(units=8, input_dim=4, kernel_initializer=\"uniform\", activation=\"relu\"))\n",
    "model.add(Dense(units=3, activation=\"softmax\"))"
   ]
  },
  {
   "cell_type": "code",
   "execution_count": 20,
   "id": "42cdf700",
   "metadata": {},
   "outputs": [],
   "source": [
    "model.compile(loss=\"categorical_crossentropy\", optimizer=\"adam\", metrics=[\"accuracy\"])"
   ]
  },
  {
   "cell_type": "code",
   "execution_count": 21,
   "id": "f7c4aac0",
   "metadata": {},
   "outputs": [
    {
     "name": "stdout",
     "output_type": "stream",
     "text": [
      "Model: \"sequential\"\n",
      "_________________________________________________________________\n",
      "Layer (type)                 Output Shape              Param #   \n",
      "=================================================================\n",
      "dense (Dense)                (None, 8)                 40        \n",
      "_________________________________________________________________\n",
      "dense_1 (Dense)              (None, 3)                 27        \n",
      "=================================================================\n",
      "Total params: 67\n",
      "Trainable params: 67\n",
      "Non-trainable params: 0\n",
      "_________________________________________________________________\n"
     ]
    }
   ],
   "source": [
    "model.summary()"
   ]
  },
  {
   "cell_type": "code",
   "execution_count": 22,
   "id": "e83baaaf",
   "metadata": {},
   "outputs": [
    {
     "name": "stdout",
     "output_type": "stream",
     "text": [
      "Epoch 1/100\n",
      "11/11 - 1s - loss: 1.1314 - accuracy: 0.3048\n",
      "Epoch 2/100\n",
      "11/11 - 0s - loss: 1.0793 - accuracy: 0.3048\n",
      "Epoch 3/100\n",
      "11/11 - 0s - loss: 1.0593 - accuracy: 0.3333\n",
      "Epoch 4/100\n",
      "11/11 - 0s - loss: 1.0346 - accuracy: 0.6190\n",
      "Epoch 5/100\n",
      "11/11 - 0s - loss: 1.0169 - accuracy: 0.6286\n",
      "Epoch 6/100\n",
      "11/11 - 0s - loss: 1.0007 - accuracy: 0.6286\n",
      "Epoch 7/100\n",
      "11/11 - 0s - loss: 0.9832 - accuracy: 0.6381\n",
      "Epoch 8/100\n",
      "11/11 - 0s - loss: 0.9655 - accuracy: 0.6952\n",
      "Epoch 9/100\n",
      "11/11 - 0s - loss: 0.9462 - accuracy: 0.8381\n",
      "Epoch 10/100\n",
      "11/11 - 0s - loss: 0.9280 - accuracy: 0.9524\n",
      "Epoch 11/100\n",
      "11/11 - 0s - loss: 0.9098 - accuracy: 0.9333\n",
      "Epoch 12/100\n",
      "11/11 - 0s - loss: 0.8888 - accuracy: 0.9619\n",
      "Epoch 13/100\n",
      "11/11 - 0s - loss: 0.8690 - accuracy: 0.9429\n",
      "Epoch 14/100\n",
      "11/11 - 0s - loss: 0.8474 - accuracy: 0.9429\n",
      "Epoch 15/100\n",
      "11/11 - 0s - loss: 0.8268 - accuracy: 0.8857\n",
      "Epoch 16/100\n",
      "11/11 - 0s - loss: 0.8063 - accuracy: 0.8571\n",
      "Epoch 17/100\n",
      "11/11 - 0s - loss: 0.7880 - accuracy: 0.8762\n",
      "Epoch 18/100\n",
      "11/11 - 0s - loss: 0.7673 - accuracy: 0.8095\n",
      "Epoch 19/100\n",
      "11/11 - 0s - loss: 0.7479 - accuracy: 0.7810\n",
      "Epoch 20/100\n",
      "11/11 - 0s - loss: 0.7291 - accuracy: 0.8000\n",
      "Epoch 21/100\n",
      "11/11 - 0s - loss: 0.7112 - accuracy: 0.7524\n",
      "Epoch 22/100\n",
      "11/11 - 0s - loss: 0.6936 - accuracy: 0.7238\n",
      "Epoch 23/100\n",
      "11/11 - 0s - loss: 0.6773 - accuracy: 0.7619\n",
      "Epoch 24/100\n",
      "11/11 - 0s - loss: 0.6609 - accuracy: 0.7333\n",
      "Epoch 25/100\n",
      "11/11 - 0s - loss: 0.6458 - accuracy: 0.7238\n",
      "Epoch 26/100\n",
      "11/11 - 0s - loss: 0.6313 - accuracy: 0.7238\n",
      "Epoch 27/100\n",
      "11/11 - 0s - loss: 0.6177 - accuracy: 0.7333\n",
      "Epoch 28/100\n",
      "11/11 - 0s - loss: 0.6036 - accuracy: 0.7238\n",
      "Epoch 29/100\n",
      "11/11 - 0s - loss: 0.5922 - accuracy: 0.7143\n",
      "Epoch 30/100\n",
      "11/11 - 0s - loss: 0.5807 - accuracy: 0.7238\n",
      "Epoch 31/100\n",
      "11/11 - 0s - loss: 0.5689 - accuracy: 0.7238\n",
      "Epoch 32/100\n",
      "11/11 - 0s - loss: 0.5588 - accuracy: 0.7143\n",
      "Epoch 33/100\n",
      "11/11 - 0s - loss: 0.5488 - accuracy: 0.7238\n",
      "Epoch 34/100\n",
      "11/11 - 0s - loss: 0.5393 - accuracy: 0.7333\n",
      "Epoch 35/100\n",
      "11/11 - 0s - loss: 0.5294 - accuracy: 0.7429\n",
      "Epoch 36/100\n",
      "11/11 - 0s - loss: 0.5212 - accuracy: 0.7714\n",
      "Epoch 37/100\n",
      "11/11 - 0s - loss: 0.5121 - accuracy: 0.7619\n",
      "Epoch 38/100\n",
      "11/11 - 0s - loss: 0.5040 - accuracy: 0.7619\n",
      "Epoch 39/100\n",
      "11/11 - 0s - loss: 0.4963 - accuracy: 0.8095\n",
      "Epoch 40/100\n",
      "11/11 - 0s - loss: 0.4887 - accuracy: 0.8095\n",
      "Epoch 41/100\n",
      "11/11 - 0s - loss: 0.4818 - accuracy: 0.8095\n",
      "Epoch 42/100\n",
      "11/11 - 0s - loss: 0.4744 - accuracy: 0.8381\n",
      "Epoch 43/100\n",
      "11/11 - 0s - loss: 0.4675 - accuracy: 0.8381\n",
      "Epoch 44/100\n",
      "11/11 - 0s - loss: 0.4615 - accuracy: 0.8381\n",
      "Epoch 45/100\n",
      "11/11 - 0s - loss: 0.4551 - accuracy: 0.8476\n",
      "Epoch 46/100\n",
      "11/11 - 0s - loss: 0.4482 - accuracy: 0.8762\n",
      "Epoch 47/100\n",
      "11/11 - 0s - loss: 0.4423 - accuracy: 0.8571\n",
      "Epoch 48/100\n",
      "11/11 - 0s - loss: 0.4365 - accuracy: 0.8667\n",
      "Epoch 49/100\n",
      "11/11 - 0s - loss: 0.4325 - accuracy: 0.8857\n",
      "Epoch 50/100\n",
      "11/11 - 0s - loss: 0.4249 - accuracy: 0.8857\n",
      "Epoch 51/100\n",
      "11/11 - 0s - loss: 0.4207 - accuracy: 0.8857\n",
      "Epoch 52/100\n",
      "11/11 - 0s - loss: 0.4145 - accuracy: 0.8857\n",
      "Epoch 53/100\n",
      "11/11 - 0s - loss: 0.4093 - accuracy: 0.8857\n",
      "Epoch 54/100\n",
      "11/11 - 0s - loss: 0.4034 - accuracy: 0.9143\n",
      "Epoch 55/100\n",
      "11/11 - 0s - loss: 0.3990 - accuracy: 0.9333\n",
      "Epoch 56/100\n",
      "11/11 - 0s - loss: 0.3945 - accuracy: 0.9333\n",
      "Epoch 57/100\n",
      "11/11 - 0s - loss: 0.3897 - accuracy: 0.9333\n",
      "Epoch 58/100\n",
      "11/11 - 0s - loss: 0.3845 - accuracy: 0.9333\n",
      "Epoch 59/100\n",
      "11/11 - 0s - loss: 0.3796 - accuracy: 0.9333\n",
      "Epoch 60/100\n",
      "11/11 - 0s - loss: 0.3758 - accuracy: 0.9429\n",
      "Epoch 61/100\n",
      "11/11 - 0s - loss: 0.3703 - accuracy: 0.9333\n",
      "Epoch 62/100\n",
      "11/11 - 0s - loss: 0.3660 - accuracy: 0.9333\n",
      "Epoch 63/100\n",
      "11/11 - 0s - loss: 0.3616 - accuracy: 0.9619\n",
      "Epoch 64/100\n",
      "11/11 - 0s - loss: 0.3585 - accuracy: 0.9429\n",
      "Epoch 65/100\n",
      "11/11 - 0s - loss: 0.3538 - accuracy: 0.9524\n",
      "Epoch 66/100\n",
      "11/11 - 0s - loss: 0.3487 - accuracy: 0.9619\n",
      "Epoch 67/100\n",
      "11/11 - 0s - loss: 0.3444 - accuracy: 0.9524\n",
      "Epoch 68/100\n",
      "11/11 - 0s - loss: 0.3412 - accuracy: 0.9619\n",
      "Epoch 69/100\n",
      "11/11 - 0s - loss: 0.3364 - accuracy: 0.9619\n",
      "Epoch 70/100\n",
      "11/11 - 0s - loss: 0.3330 - accuracy: 0.9619\n",
      "Epoch 71/100\n",
      "11/11 - 0s - loss: 0.3291 - accuracy: 0.9524\n",
      "Epoch 72/100\n",
      "11/11 - 0s - loss: 0.3251 - accuracy: 0.9619\n",
      "Epoch 73/100\n",
      "11/11 - 0s - loss: 0.3215 - accuracy: 0.9619\n",
      "Epoch 74/100\n",
      "11/11 - 0s - loss: 0.3184 - accuracy: 0.9619\n",
      "Epoch 75/100\n",
      "11/11 - 0s - loss: 0.3130 - accuracy: 0.9619\n",
      "Epoch 76/100\n",
      "11/11 - 0s - loss: 0.3107 - accuracy: 0.9619\n",
      "Epoch 77/100\n",
      "11/11 - 0s - loss: 0.3066 - accuracy: 0.9619\n",
      "Epoch 78/100\n",
      "11/11 - 0s - loss: 0.3032 - accuracy: 0.9619\n",
      "Epoch 79/100\n",
      "11/11 - 0s - loss: 0.2999 - accuracy: 0.9619\n",
      "Epoch 80/100\n",
      "11/11 - 0s - loss: 0.2959 - accuracy: 0.9619\n",
      "Epoch 81/100\n",
      "11/11 - 0s - loss: 0.2937 - accuracy: 0.9619\n",
      "Epoch 82/100\n",
      "11/11 - 0s - loss: 0.2893 - accuracy: 0.9619\n",
      "Epoch 83/100\n",
      "11/11 - 0s - loss: 0.2861 - accuracy: 0.9619\n",
      "Epoch 84/100\n",
      "11/11 - 0s - loss: 0.2828 - accuracy: 0.9619\n",
      "Epoch 85/100\n",
      "11/11 - 0s - loss: 0.2804 - accuracy: 0.9619\n",
      "Epoch 86/100\n",
      "11/11 - 0s - loss: 0.2769 - accuracy: 0.9619\n",
      "Epoch 87/100\n",
      "11/11 - 0s - loss: 0.2738 - accuracy: 0.9619\n",
      "Epoch 88/100\n",
      "11/11 - 0s - loss: 0.2699 - accuracy: 0.9619\n",
      "Epoch 89/100\n",
      "11/11 - 0s - loss: 0.2677 - accuracy: 0.9619\n",
      "Epoch 90/100\n",
      "11/11 - 0s - loss: 0.2647 - accuracy: 0.9619\n",
      "Epoch 91/100\n",
      "11/11 - 0s - loss: 0.2610 - accuracy: 0.9619\n",
      "Epoch 92/100\n",
      "11/11 - 0s - loss: 0.2588 - accuracy: 0.9619\n",
      "Epoch 93/100\n",
      "11/11 - 0s - loss: 0.2560 - accuracy: 0.9619\n",
      "Epoch 94/100\n",
      "11/11 - 0s - loss: 0.2525 - accuracy: 0.9619\n",
      "Epoch 95/100\n",
      "11/11 - 0s - loss: 0.2507 - accuracy: 0.9619\n",
      "Epoch 96/100\n",
      "11/11 - 0s - loss: 0.2471 - accuracy: 0.9619\n",
      "Epoch 97/100\n",
      "11/11 - 0s - loss: 0.2455 - accuracy: 0.9714\n",
      "Epoch 98/100\n",
      "11/11 - 0s - loss: 0.2409 - accuracy: 0.9714\n",
      "Epoch 99/100\n",
      "11/11 - 0s - loss: 0.2398 - accuracy: 0.9619\n",
      "Epoch 100/100\n",
      "11/11 - 0s - loss: 0.2396 - accuracy: 0.9619\n"
     ]
    },
    {
     "data": {
      "text/plain": [
       "<tensorflow.python.keras.callbacks.History at 0x20d6f5257f0>"
      ]
     },
     "execution_count": 22,
     "metadata": {},
     "output_type": "execute_result"
    }
   ],
   "source": [
    "model.fit(X_train, y_train, epochs=100, batch_size=10, verbose=2)"
   ]
  },
  {
   "cell_type": "code",
   "execution_count": 25,
   "id": "674389fe",
   "metadata": {},
   "outputs": [],
   "source": [
    "hist = model.fit(X_train, y_train, epochs=100, batch_size=10, verbose=0)"
   ]
  },
  {
   "cell_type": "code",
   "execution_count": 26,
   "id": "ad111e87",
   "metadata": {
    "scrolled": true
   },
   "outputs": [
    {
     "data": {
      "text/plain": [
       "[0.9714285731315613,\n",
       " 0.9714285731315613,\n",
       " 0.961904764175415,\n",
       " 0.961904764175415,\n",
       " 0.9714285731315613,\n",
       " 0.961904764175415,\n",
       " 0.9714285731315613,\n",
       " 0.9714285731315613,\n",
       " 0.9714285731315613,\n",
       " 0.9714285731315613,\n",
       " 0.961904764175415,\n",
       " 0.9714285731315613,\n",
       " 0.961904764175415,\n",
       " 0.9714285731315613,\n",
       " 0.9714285731315613,\n",
       " 0.9714285731315613,\n",
       " 0.9714285731315613,\n",
       " 0.9714285731315613,\n",
       " 0.9714285731315613,\n",
       " 0.9714285731315613,\n",
       " 0.961904764175415,\n",
       " 0.961904764175415,\n",
       " 0.9714285731315613,\n",
       " 0.9714285731315613,\n",
       " 0.961904764175415,\n",
       " 0.9714285731315613,\n",
       " 0.9714285731315613,\n",
       " 0.9714285731315613,\n",
       " 0.9714285731315613,\n",
       " 0.9714285731315613,\n",
       " 0.9714285731315613,\n",
       " 0.9714285731315613,\n",
       " 0.9714285731315613,\n",
       " 0.961904764175415,\n",
       " 0.9714285731315613,\n",
       " 0.9714285731315613,\n",
       " 0.9714285731315613,\n",
       " 0.9714285731315613,\n",
       " 0.9714285731315613,\n",
       " 0.9714285731315613,\n",
       " 0.9714285731315613,\n",
       " 0.9714285731315613,\n",
       " 0.9714285731315613,\n",
       " 0.9714285731315613,\n",
       " 0.9714285731315613,\n",
       " 0.9714285731315613,\n",
       " 0.9714285731315613,\n",
       " 0.9714285731315613,\n",
       " 0.9714285731315613,\n",
       " 0.9714285731315613,\n",
       " 0.9714285731315613,\n",
       " 0.9714285731315613,\n",
       " 0.9714285731315613,\n",
       " 0.9714285731315613,\n",
       " 0.961904764175415,\n",
       " 0.9714285731315613,\n",
       " 0.9714285731315613,\n",
       " 0.9714285731315613,\n",
       " 0.9714285731315613,\n",
       " 0.9714285731315613,\n",
       " 0.9714285731315613,\n",
       " 0.9714285731315613,\n",
       " 0.9714285731315613,\n",
       " 0.9714285731315613,\n",
       " 0.9714285731315613,\n",
       " 0.9714285731315613,\n",
       " 0.9714285731315613,\n",
       " 0.9714285731315613,\n",
       " 0.9714285731315613,\n",
       " 0.9714285731315613,\n",
       " 0.9714285731315613,\n",
       " 0.9714285731315613,\n",
       " 0.9714285731315613,\n",
       " 0.9714285731315613,\n",
       " 0.9714285731315613,\n",
       " 0.9714285731315613,\n",
       " 0.9714285731315613,\n",
       " 0.9714285731315613,\n",
       " 0.9714285731315613,\n",
       " 0.961904764175415,\n",
       " 0.9714285731315613,\n",
       " 0.9714285731315613,\n",
       " 0.9714285731315613,\n",
       " 0.9714285731315613,\n",
       " 0.9714285731315613,\n",
       " 0.9714285731315613,\n",
       " 0.9714285731315613,\n",
       " 0.9714285731315613,\n",
       " 0.9714285731315613,\n",
       " 0.9714285731315613,\n",
       " 0.9714285731315613,\n",
       " 0.9714285731315613,\n",
       " 0.9714285731315613,\n",
       " 0.9714285731315613,\n",
       " 0.9714285731315613,\n",
       " 0.9714285731315613,\n",
       " 0.9714285731315613,\n",
       " 0.9714285731315613,\n",
       " 0.9714285731315613,\n",
       " 0.9714285731315613]"
      ]
     },
     "execution_count": 26,
     "metadata": {},
     "output_type": "execute_result"
    }
   ],
   "source": [
    "hist.history[\"accuracy\"]"
   ]
  },
  {
   "cell_type": "code",
   "execution_count": 27,
   "id": "79dd28f5",
   "metadata": {
    "scrolled": true
   },
   "outputs": [
    {
     "data": {
      "text/plain": [
       "[0.2339402586221695,\n",
       " 0.23245151340961456,\n",
       " 0.2299870401620865,\n",
       " 0.22728246450424194,\n",
       " 0.2246217429637909,\n",
       " 0.2224390059709549,\n",
       " 0.22030630707740784,\n",
       " 0.2177761048078537,\n",
       " 0.21521534025669098,\n",
       " 0.21325640380382538,\n",
       " 0.21096943318843842,\n",
       " 0.2087070345878601,\n",
       " 0.2084423005580902,\n",
       " 0.2047773152589798,\n",
       " 0.20364104211330414,\n",
       " 0.20091895759105682,\n",
       " 0.19983620941638947,\n",
       " 0.19718649983406067,\n",
       " 0.19504928588867188,\n",
       " 0.1931704878807068,\n",
       " 0.19127041101455688,\n",
       " 0.1902914196252823,\n",
       " 0.1883116364479065,\n",
       " 0.188328817486763,\n",
       " 0.18619437515735626,\n",
       " 0.18387368321418762,\n",
       " 0.18100696802139282,\n",
       " 0.1794063001871109,\n",
       " 0.17782695591449738,\n",
       " 0.17729131877422333,\n",
       " 0.1752447783946991,\n",
       " 0.17439764738082886,\n",
       " 0.17179395258426666,\n",
       " 0.17256124317646027,\n",
       " 0.16837939620018005,\n",
       " 0.16934621334075928,\n",
       " 0.16629540920257568,\n",
       " 0.1649446189403534,\n",
       " 0.1629435271024704,\n",
       " 0.1624288111925125,\n",
       " 0.1609329730272293,\n",
       " 0.15949948132038116,\n",
       " 0.15813593566417694,\n",
       " 0.15699036419391632,\n",
       " 0.1562812775373459,\n",
       " 0.15445341169834137,\n",
       " 0.15482954680919647,\n",
       " 0.1528472900390625,\n",
       " 0.152287557721138,\n",
       " 0.15017585456371307,\n",
       " 0.14839306473731995,\n",
       " 0.1478271633386612,\n",
       " 0.14713898301124573,\n",
       " 0.14431235194206238,\n",
       " 0.14627893269062042,\n",
       " 0.14328265190124512,\n",
       " 0.1423393040895462,\n",
       " 0.14136463403701782,\n",
       " 0.14042964577674866,\n",
       " 0.13903354108333588,\n",
       " 0.13942866027355194,\n",
       " 0.13748158514499664,\n",
       " 0.13667191565036774,\n",
       " 0.13519352674484253,\n",
       " 0.1348034292459488,\n",
       " 0.13357359170913696,\n",
       " 0.1345060020685196,\n",
       " 0.132511168718338,\n",
       " 0.13085901737213135,\n",
       " 0.1303267776966095,\n",
       " 0.13228848576545715,\n",
       " 0.12931200861930847,\n",
       " 0.12918949127197266,\n",
       " 0.12683309614658356,\n",
       " 0.12617847323417664,\n",
       " 0.1257781982421875,\n",
       " 0.124626524746418,\n",
       " 0.12369121611118317,\n",
       " 0.12310249358415604,\n",
       " 0.12530198693275452,\n",
       " 0.12240242958068848,\n",
       " 0.12102190405130386,\n",
       " 0.12301939725875854,\n",
       " 0.1211361289024353,\n",
       " 0.11984264850616455,\n",
       " 0.11766740679740906,\n",
       " 0.11800630390644073,\n",
       " 0.11637750267982483,\n",
       " 0.11627593636512756,\n",
       " 0.11511918157339096,\n",
       " 0.11542517691850662,\n",
       " 0.11394854635000229,\n",
       " 0.11360691487789154,\n",
       " 0.11423496901988983,\n",
       " 0.1123829334974289,\n",
       " 0.11307807266712189,\n",
       " 0.11096655577421188,\n",
       " 0.11083004623651505,\n",
       " 0.10967525094747543,\n",
       " 0.10933567583560944]"
      ]
     },
     "execution_count": 27,
     "metadata": {},
     "output_type": "execute_result"
    }
   ],
   "source": [
    "hist.history[\"loss\"]"
   ]
  },
  {
   "cell_type": "code",
   "execution_count": 28,
   "id": "f93bf623",
   "metadata": {},
   "outputs": [
    {
     "name": "stdout",
     "output_type": "stream",
     "text": [
      "[[5.28 9.86 6.85 7.87]\n",
      " [0.21 4.08 3.63 2.59]\n",
      " [8.68 6.93 3.17 6.38]]\n"
     ]
    }
   ],
   "source": [
    "from numpy.random import random\n",
    "from numpy import round\n",
    "\n",
    "X_new = round(random([3, 4]) * 10, 2)\n",
    "print(X_new)"
   ]
  },
  {
   "cell_type": "code",
   "execution_count": 29,
   "id": "6a6843c3",
   "metadata": {},
   "outputs": [
    {
     "name": "stdout",
     "output_type": "stream",
     "text": [
      "[[1.5101849e-10 1.6180583e-03 9.9838197e-01]\n",
      " [2.3033972e-04 8.3660267e-02 9.1610932e-01]\n",
      " [1.8142161e-06 1.1201039e-01 8.8798785e-01]]\n"
     ]
    }
   ],
   "source": [
    "y_pred = model.predict(X_new)\n",
    "print(y_pred)"
   ]
  },
  {
   "cell_type": "code",
   "execution_count": 30,
   "id": "db883bd4",
   "metadata": {},
   "outputs": [
    {
     "name": "stdout",
     "output_type": "stream",
     "text": [
      "[2 2 2]\n"
     ]
    },
    {
     "name": "stderr",
     "output_type": "stream",
     "text": [
      "C:\\Users\\567di\\anaconda3\\lib\\site-packages\\tensorflow\\python\\keras\\engine\\sequential.py:455: UserWarning: `model.predict_classes()` is deprecated and will be removed after 2021-01-01. Please use instead:* `np.argmax(model.predict(x), axis=-1)`,   if your model does multi-class classification   (e.g. if it uses a `softmax` last-layer activation).* `(model.predict(x) > 0.5).astype(\"int32\")`,   if your model does binary classification   (e.g. if it uses a `sigmoid` last-layer activation).\n",
      "  warnings.warn('`model.predict_classes()` is deprecated and '\n"
     ]
    }
   ],
   "source": [
    "y_pred_class = model.predict_classes(X_new)\n",
    "print(y_pred_class)"
   ]
  },
  {
   "cell_type": "markdown",
   "id": "dd72f09e",
   "metadata": {},
   "source": [
    "## MLPClassifier"
   ]
  },
  {
   "cell_type": "code",
   "execution_count": 32,
   "id": "14512a23",
   "metadata": {},
   "outputs": [
    {
     "name": "stderr",
     "output_type": "stream",
     "text": [
      "C:\\Users\\567di\\anaconda3\\lib\\site-packages\\sklearn\\datasets\\_openml.py:65: RuntimeWarning: Invalid cache, redownloading file\n",
      "  warn(\"Invalid cache, redownloading file\", RuntimeWarning)\n"
     ]
    }
   ],
   "source": [
    "import sklearn.datasets as d\n",
    "dir(d)\n",
    "\n",
    "mnist = d.fetch_openml('mnist_784', version=1)\n",
    "X = mnist.data\n",
    "y = mnist.target"
   ]
  },
  {
   "cell_type": "code",
   "execution_count": 33,
   "id": "622575b4",
   "metadata": {},
   "outputs": [
    {
     "name": "stdout",
     "output_type": "stream",
     "text": [
      "(70000, 784)\n",
      "(70000,)\n"
     ]
    }
   ],
   "source": [
    "import numpy as np\n",
    "\n",
    "print(X.shape)\n",
    "print(y.shape)"
   ]
  },
  {
   "cell_type": "code",
   "execution_count": 34,
   "id": "6dafad8e",
   "metadata": {},
   "outputs": [],
   "source": [
    "y = y.astype(np.int)"
   ]
  },
  {
   "cell_type": "code",
   "execution_count": 35,
   "id": "6bf34f05",
   "metadata": {},
   "outputs": [
    {
     "data": {
      "text/plain": [
       "array([0, 1, 2, 3, 4, 5, 6, 7, 8, 9])"
      ]
     },
     "execution_count": 35,
     "metadata": {},
     "output_type": "execute_result"
    }
   ],
   "source": [
    "np.unique(y)"
   ]
  },
  {
   "cell_type": "code",
   "execution_count": 36,
   "id": "16d273e0",
   "metadata": {},
   "outputs": [],
   "source": [
    "import sklearn.model_selection as ms\n",
    "\n",
    "X_train, X_test, y_train, y_test = ms.train_test_split(X, y, test_size=0.3, random_state=1)"
   ]
  },
  {
   "cell_type": "code",
   "execution_count": null,
   "id": "4296cc26",
   "metadata": {},
   "outputs": [],
   "source": [
    "import sklearn.neural_network as nn\n",
    "\n",
    "pnn_clf = nn.MLPClassifier(learning_rate_init=0.001, max_iter=100, activation=\"relu\", hidden_layer_sizes=(10, 10))\n",
    "clf = pnn_clf.fit(X_train, y_train)\n",
    "y_pred = clf.predict(X_test)\n",
    "\n",
    "import sklearn.metrics as mt\n",
    "print(\"정확도:\", mt.accuracy_score(Y_test, y_pred))\n",
    "print(mt.confusion_matrix(y_test, y_pred))"
   ]
  },
  {
   "cell_type": "code",
   "execution_count": null,
   "id": "da6fc706",
   "metadata": {},
   "outputs": [],
   "source": [
    "# X_train[0]\n",
    "# y_train[0]"
   ]
  },
  {
   "cell_type": "code",
   "execution_count": null,
   "id": "8a6cef8f",
   "metadata": {},
   "outputs": [],
   "source": [
    "X = X / 255"
   ]
  },
  {
   "cell_type": "code",
   "execution_count": null,
   "id": "2d942e54",
   "metadata": {},
   "outputs": [],
   "source": [
    "import tensorflow as ft\n",
    "from tensorflow import keras"
   ]
  },
  {
   "cell_type": "code",
   "execution_count": null,
   "id": "eaa61514",
   "metadata": {},
   "outputs": [],
   "source": [
    "keras.__version__"
   ]
  },
  {
   "cell_type": "code",
   "execution_count": null,
   "id": "0f3c107b",
   "metadata": {},
   "outputs": [],
   "source": [
    "help(keras)"
   ]
  },
  {
   "cell_type": "code",
   "execution_count": 5,
   "id": "2e845c5a",
   "metadata": {},
   "outputs": [
    {
     "ename": "ModuleNotFoundError",
     "evalue": "No module named 'tensorflow'",
     "output_type": "error",
     "traceback": [
      "\u001b[1;31m---------------------------------------------------------------------------\u001b[0m",
      "\u001b[1;31mModuleNotFoundError\u001b[0m                       Traceback (most recent call last)",
      "\u001b[1;32m<ipython-input-5-3f9d3cd05d1e>\u001b[0m in \u001b[0;36m<module>\u001b[1;34m\u001b[0m\n\u001b[1;32m----> 1\u001b[1;33m \u001b[1;32mimport\u001b[0m \u001b[0mtensorflow\u001b[0m \u001b[1;32mas\u001b[0m \u001b[0mtf\u001b[0m\u001b[1;33m\u001b[0m\u001b[1;33m\u001b[0m\u001b[0m\n\u001b[0m\u001b[0;32m      2\u001b[0m \u001b[1;32mfrom\u001b[0m \u001b[0mtensorflow\u001b[0m \u001b[1;32mimport\u001b[0m \u001b[0mkeras\u001b[0m\u001b[1;33m\u001b[0m\u001b[1;33m\u001b[0m\u001b[0m\n\u001b[0;32m      3\u001b[0m \u001b[1;32mfrom\u001b[0m \u001b[0msklearn\u001b[0m\u001b[1;33m.\u001b[0m\u001b[0mdatasets\u001b[0m \u001b[1;32mimport\u001b[0m \u001b[0mfetch_openml\u001b[0m\u001b[1;33m\u001b[0m\u001b[1;33m\u001b[0m\u001b[0m\n\u001b[0;32m      4\u001b[0m \u001b[1;32mfrom\u001b[0m \u001b[0msklearn\u001b[0m\u001b[1;33m.\u001b[0m\u001b[0mmodel_selection\u001b[0m \u001b[1;32mimport\u001b[0m \u001b[0mtrain_test_split\u001b[0m\u001b[1;33m\u001b[0m\u001b[1;33m\u001b[0m\u001b[0m\n\u001b[0;32m      5\u001b[0m \u001b[1;32mfrom\u001b[0m \u001b[0msklearn\u001b[0m\u001b[1;33m.\u001b[0m\u001b[0mmetrics\u001b[0m \u001b[1;32mimport\u001b[0m \u001b[0maccuracy_score\u001b[0m\u001b[1;33m,\u001b[0m \u001b[0mconfusion_matrix\u001b[0m\u001b[1;33m\u001b[0m\u001b[1;33m\u001b[0m\u001b[0m\n",
      "\u001b[1;31mModuleNotFoundError\u001b[0m: No module named 'tensorflow'"
     ]
    }
   ],
   "source": [
    "import tensorflow as tf\n",
    "from tensorflow import keras\n",
    "from sklearn.datasets import fetch_openml\n",
    "from sklearn.model_selection import train_test_split\n",
    "from sklearn.metrics import accuracy_score, confusion_matrix\n",
    "import numpy as np\n",
    "from tensorflow.keras.utils import to_categorical\n",
    "from keras.models import Sequential\n",
    "from keras.layers import Dense\n",
    "from keras.optimizers import Adam"
   ]
  },
  {
   "cell_type": "code",
   "execution_count": null,
   "id": "3489c5f5",
   "metadata": {},
   "outputs": [],
   "source": [
    "mnist = fetch_openml('mnist_784', version=1)\n",
    "X = mnist.data\n",
    "y_ori = mnist.target.astype(np.int)\n",
    "y = to_categorical(y_ori, 10)\n",
    "\n",
    "X_train, X_test, y_train, y_test = train_test_split(X, y, test_size=0.3, random_state=1)"
   ]
  },
  {
   "cell_type": "code",
   "execution_count": null,
   "id": "90597c00",
   "metadata": {},
   "outputs": [],
   "source": [
    "model = Sequential()\n",
    "model.add(Dense(input_dim=784, units=20, activation=\"relu\"))\n",
    "model.add(Dense(units=15, activation=\"relu\"))\n",
    "model.add(Dense(units=10, activation=\"softmax\"))"
   ]
  },
  {
   "cell_type": "code",
   "execution_count": null,
   "id": "b0df7e64",
   "metadata": {},
   "outputs": [],
   "source": [
    "model.compile(loss=\"categorical_crossentropy\", optimizer=Adam(learning_rate=0.001), metrics=['accuracy'])"
   ]
  },
  {
   "cell_type": "code",
   "execution_count": null,
   "id": "bd0ffd6a",
   "metadata": {},
   "outputs": [],
   "source": [
    "model.summary()"
   ]
  },
  {
   "cell_type": "code",
   "execution_count": null,
   "id": "50631ea8",
   "metadata": {},
   "outputs": [],
   "source": [
    "hist = model.fit(X_train, y_train, validation_data=(X_test, y_test), epochs=10, batch_size=100, verbose=2)\n",
    "# 원래는 epoch를 더 크게 하는게 맞음"
   ]
  },
  {
   "cell_type": "code",
   "execution_count": null,
   "id": "b02bde97",
   "metadata": {},
   "outputs": [],
   "source": [
    "loss, acc = model.evaluate(X_test, y_test)\n",
    "print(\"loss=\", loss)\n",
    "print(\"accuracy=\", acc)"
   ]
  },
  {
   "cell_type": "code",
   "execution_count": null,
   "id": "5d455a1a",
   "metadata": {},
   "outputs": [],
   "source": [
    "y_pred_class = model.predict_classes(X_test)"
   ]
  },
  {
   "cell_type": "code",
   "execution_count": null,
   "id": "6baede9a",
   "metadata": {},
   "outputs": [],
   "source": [
    "y_test_class = np.argmax(y_test, axis=1)\n",
    "\n",
    "# [0, 0, 1, 0, 0, 0, 0, 0, 0, ...] =>2"
   ]
  },
  {
   "cell_type": "code",
   "execution_count": null,
   "id": "a1363dc2",
   "metadata": {},
   "outputs": [],
   "source": [
    "print(confusion_matrix(y_test_class, y_pred_class))"
   ]
  },
  {
   "cell_type": "code",
   "execution_count": null,
   "id": "134f8fe8",
   "metadata": {},
   "outputs": [],
   "source": [
    "dir(keras.optimizers)\n",
    "\n",
    "# optimizer=RMSProp(???)\n",
    "# optimizer=SGD(???)\n",
    "\n",
    "# optimizer = \"rmsprop\"\n",
    "# optimizer = \"sgd\""
   ]
  },
  {
   "cell_type": "code",
   "execution_count": null,
   "id": "9fe4a52c",
   "metadata": {},
   "outputs": [],
   "source": [
    "import matplotlib.pyplot as plt\n",
    "\n",
    "plt.figure(figsize=(12, 5))\n",
    "plt.subplot(1, 2, 1)\n",
    "plt.plot(hist.hitory['accuracy'], color=\"blue\", linestyle=\"--\", label=\"train\")\n",
    "plt.plot(hist.history['val_accuracy'], color=\"red\", label=\"validation\")\n",
    "plt.xlabel(\"epoch\", fontsize=15)\n",
    "plt.ylabel(\"accuracy\", fontsize=15)\n",
    "plt.title(\"ACCURACY\", fontsize=18)\n",
    "plt.legend(fontsize=15)\n",
    "plt.grid(linestyle=\"--\")\n",
    "\n",
    "plt.subplot(1, 2, 2)\n",
    "plt.plot(hist.hitory['loss'], color=\"blue\", linestyle=\"--\", label=\"train\")\n",
    "plt.plot(hist.history['val_loss'], color=\"red\", label=\"validation\")\n",
    "plt.xlabel(\"epoch\", fontsize=15)\n",
    "plt.ylabel(\"loss\", fontsize=15)\n",
    "plt.title(\"LOSS\", fontsize=18)\n",
    "plt.legend(fontsize=15)\n",
    "plt.grid(linestyle=\"--\")"
   ]
  }
 ],
 "metadata": {
  "kernelspec": {
   "display_name": "Python 3",
   "language": "python",
   "name": "python3"
  },
  "language_info": {
   "codemirror_mode": {
    "name": "ipython",
    "version": 3
   },
   "file_extension": ".py",
   "mimetype": "text/x-python",
   "name": "python",
   "nbconvert_exporter": "python",
   "pygments_lexer": "ipython3",
   "version": "3.8.8"
  }
 },
 "nbformat": 4,
 "nbformat_minor": 5
}

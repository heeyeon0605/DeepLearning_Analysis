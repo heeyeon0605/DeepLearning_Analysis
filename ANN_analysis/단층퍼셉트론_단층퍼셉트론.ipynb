{
 "cells": [
  {
   "cell_type": "markdown",
   "id": "6a188589",
   "metadata": {},
   "source": [
    "## 단층퍼셉트론"
   ]
  },
  {
   "cell_type": "code",
   "execution_count": 3,
   "id": "b7bdccef",
   "metadata": {},
   "outputs": [],
   "source": [
    "import sklearn.linear_model as lm\n",
    "\n",
    "ppn_clf = lm.Perceptron(eta0=0.1, max_iter=1000, tol=0.001) #perceptron classifier 약자로 ppn_clf"
   ]
  },
  {
   "cell_type": "code",
   "execution_count": 5,
   "id": "fd165f91",
   "metadata": {},
   "outputs": [],
   "source": [
    "import sklearn.datasets as d"
   ]
  },
  {
   "cell_type": "code",
   "execution_count": 6,
   "id": "93654ef5",
   "metadata": {
    "scrolled": true
   },
   "outputs": [
    {
     "data": {
      "text/plain": [
       "['__all__',\n",
       " '__builtins__',\n",
       " '__cached__',\n",
       " '__doc__',\n",
       " '__file__',\n",
       " '__loader__',\n",
       " '__name__',\n",
       " '__package__',\n",
       " '__path__',\n",
       " '__spec__',\n",
       " '_base',\n",
       " '_california_housing',\n",
       " '_covtype',\n",
       " '_kddcup99',\n",
       " '_lfw',\n",
       " '_olivetti_faces',\n",
       " '_openml',\n",
       " '_rcv1',\n",
       " '_samples_generator',\n",
       " '_species_distributions',\n",
       " '_svmlight_format_fast',\n",
       " '_svmlight_format_io',\n",
       " '_twenty_newsgroups',\n",
       " 'clear_data_home',\n",
       " 'dump_svmlight_file',\n",
       " 'fetch_20newsgroups',\n",
       " 'fetch_20newsgroups_vectorized',\n",
       " 'fetch_california_housing',\n",
       " 'fetch_covtype',\n",
       " 'fetch_kddcup99',\n",
       " 'fetch_lfw_pairs',\n",
       " 'fetch_lfw_people',\n",
       " 'fetch_olivetti_faces',\n",
       " 'fetch_openml',\n",
       " 'fetch_rcv1',\n",
       " 'fetch_species_distributions',\n",
       " 'get_data_home',\n",
       " 'load_boston',\n",
       " 'load_breast_cancer',\n",
       " 'load_diabetes',\n",
       " 'load_digits',\n",
       " 'load_files',\n",
       " 'load_iris',\n",
       " 'load_linnerud',\n",
       " 'load_sample_image',\n",
       " 'load_sample_images',\n",
       " 'load_svmlight_file',\n",
       " 'load_svmlight_files',\n",
       " 'load_wine',\n",
       " 'make_biclusters',\n",
       " 'make_blobs',\n",
       " 'make_checkerboard',\n",
       " 'make_circles',\n",
       " 'make_classification',\n",
       " 'make_friedman1',\n",
       " 'make_friedman2',\n",
       " 'make_friedman3',\n",
       " 'make_gaussian_quantiles',\n",
       " 'make_hastie_10_2',\n",
       " 'make_low_rank_matrix',\n",
       " 'make_moons',\n",
       " 'make_multilabel_classification',\n",
       " 'make_regression',\n",
       " 'make_s_curve',\n",
       " 'make_sparse_coded_signal',\n",
       " 'make_sparse_spd_matrix',\n",
       " 'make_sparse_uncorrelated',\n",
       " 'make_spd_matrix',\n",
       " 'make_swiss_roll']"
      ]
     },
     "execution_count": 6,
     "metadata": {},
     "output_type": "execute_result"
    }
   ],
   "source": [
    "dir(d) # 일반 프로그래밍을 할 때는 밑줄 없는 애들로. 객체지향프로그래밍 할 때는 밑줄 있는 애들 씀.\n",
    "# fetch, load, make로 시작하는 함수들. 데이터를 불러올 때 사용하는 함수들.\n",
    "# fetch로 시작하는 함수는 데이터 원본이 인터넷 서버 어딘가 안에 저장되어 있음.\n",
    "# load로 시작하는 함수는 sklearn 자체가 가지고 있는 연습용, 학습용 sample data\n",
    "# make로 시작하는 함수는 나한테 맞게끔 설정을 해서 내가 데이터를 만드는 것"
   ]
  },
  {
   "cell_type": "code",
   "execution_count": 9,
   "id": "5561bd45",
   "metadata": {},
   "outputs": [],
   "source": [
    "iris = d.load_iris()"
   ]
  },
  {
   "cell_type": "code",
   "execution_count": 10,
   "id": "91122079",
   "metadata": {
    "scrolled": true
   },
   "outputs": [
    {
     "name": "stdout",
     "output_type": "stream",
     "text": [
      ".. _iris_dataset:\n",
      "\n",
      "Iris plants dataset\n",
      "--------------------\n",
      "\n",
      "**Data Set Characteristics:**\n",
      "\n",
      "    :Number of Instances: 150 (50 in each of three classes)\n",
      "    :Number of Attributes: 4 numeric, predictive attributes and the class\n",
      "    :Attribute Information:\n",
      "        - sepal length in cm\n",
      "        - sepal width in cm\n",
      "        - petal length in cm\n",
      "        - petal width in cm\n",
      "        - class:\n",
      "                - Iris-Setosa\n",
      "                - Iris-Versicolour\n",
      "                - Iris-Virginica\n",
      "                \n",
      "    :Summary Statistics:\n",
      "\n",
      "    ============== ==== ==== ======= ===== ====================\n",
      "                    Min  Max   Mean    SD   Class Correlation\n",
      "    ============== ==== ==== ======= ===== ====================\n",
      "    sepal length:   4.3  7.9   5.84   0.83    0.7826\n",
      "    sepal width:    2.0  4.4   3.05   0.43   -0.4194\n",
      "    petal length:   1.0  6.9   3.76   1.76    0.9490  (high!)\n",
      "    petal width:    0.1  2.5   1.20   0.76    0.9565  (high!)\n",
      "    ============== ==== ==== ======= ===== ====================\n",
      "\n",
      "    :Missing Attribute Values: None\n",
      "    :Class Distribution: 33.3% for each of 3 classes.\n",
      "    :Creator: R.A. Fisher\n",
      "    :Donor: Michael Marshall (MARSHALL%PLU@io.arc.nasa.gov)\n",
      "    :Date: July, 1988\n",
      "\n",
      "The famous Iris database, first used by Sir R.A. Fisher. The dataset is taken\n",
      "from Fisher's paper. Note that it's the same as in R, but not as in the UCI\n",
      "Machine Learning Repository, which has two wrong data points.\n",
      "\n",
      "This is perhaps the best known database to be found in the\n",
      "pattern recognition literature.  Fisher's paper is a classic in the field and\n",
      "is referenced frequently to this day.  (See Duda & Hart, for example.)  The\n",
      "data set contains 3 classes of 50 instances each, where each class refers to a\n",
      "type of iris plant.  One class is linearly separable from the other 2; the\n",
      "latter are NOT linearly separable from each other.\n",
      "\n",
      ".. topic:: References\n",
      "\n",
      "   - Fisher, R.A. \"The use of multiple measurements in taxonomic problems\"\n",
      "     Annual Eugenics, 7, Part II, 179-188 (1936); also in \"Contributions to\n",
      "     Mathematical Statistics\" (John Wiley, NY, 1950).\n",
      "   - Duda, R.O., & Hart, P.E. (1973) Pattern Classification and Scene Analysis.\n",
      "     (Q327.D83) John Wiley & Sons.  ISBN 0-471-22361-1.  See page 218.\n",
      "   - Dasarathy, B.V. (1980) \"Nosing Around the Neighborhood: A New System\n",
      "     Structure and Classification Rule for Recognition in Partially Exposed\n",
      "     Environments\".  IEEE Transactions on Pattern Analysis and Machine\n",
      "     Intelligence, Vol. PAMI-2, No. 1, 67-71.\n",
      "   - Gates, G.W. (1972) \"The Reduced Nearest Neighbor Rule\".  IEEE Transactions\n",
      "     on Information Theory, May 1972, 431-433.\n",
      "   - See also: 1988 MLC Proceedings, 54-64.  Cheeseman et al\"s AUTOCLASS II\n",
      "     conceptual clustering system finds 3 classes in the data.\n",
      "   - Many, many more ...\n"
     ]
    }
   ],
   "source": [
    "print(iris.DESCR) # data description을 보고 싶을 땐 DESCR.\n",
    "# 속성이 4개 있으며, "
   ]
  },
  {
   "cell_type": "code",
   "execution_count": 11,
   "id": "80e62c7c",
   "metadata": {},
   "outputs": [],
   "source": [
    "X = iris.data\n",
    "y = iris.target"
   ]
  },
  {
   "cell_type": "code",
   "execution_count": 44,
   "id": "ffcf5b14",
   "metadata": {},
   "outputs": [],
   "source": [
    "import sklearn.model_selection as ms\n",
    "\n",
    "# 랜덤해서 매번 다시 학습할 때 마다 정확도와 값이 바뀜.\n",
    "# X_train, X_test, y_train, y_test = ms.train_test_split(X, y, test_size = 0.3) # test set이 30% 인 것\n",
    "\n",
    "# 만약에 분리할 때 값들을 똑같이 하고 싶으면 뽑을 때 랜덤한 스테이트를 똑같이 하면 모두 값이 같음. random_state\n",
    "X_train, X_test, y_train, y_test = ms.train_test_split(X, y, test_size = 0.3, random_state = 1)"
   ]
  },
  {
   "cell_type": "code",
   "execution_count": 45,
   "id": "c14c489d",
   "metadata": {},
   "outputs": [],
   "source": [
    "# 데이터 준비가 끝났으니 이제 학습하기"
   ]
  },
  {
   "cell_type": "code",
   "execution_count": 46,
   "id": "cc40de0d",
   "metadata": {},
   "outputs": [],
   "source": [
    "clf = ppn_clf.fit(X_train, y_train)\n",
    "y_pred = clf.predict(X_test)"
   ]
  },
  {
   "cell_type": "code",
   "execution_count": 47,
   "id": "76ce9125",
   "metadata": {},
   "outputs": [
    {
     "name": "stdout",
     "output_type": "stream",
     "text": [
      "정확도 = 0.7555555555555555\n",
      "[[10  4  0]\n",
      " [ 0 17  1]\n",
      " [ 0  6  7]]\n"
     ]
    }
   ],
   "source": [
    "import sklearn.metrics as mt\n",
    "score = mt.accuracy_score(y_test, y_pred) # 정답과 예측값을 순서대로 적기\n",
    "\n",
    "print(\"정확도 =\", score)\n",
    "mat = mt.confusion_matrix(y_test, y_pred)\n",
    "print(mat) # 대각선에 있는 것들이 정답. 총 11개의 오차 카운트가 있음."
   ]
  },
  {
   "cell_type": "code",
   "execution_count": 49,
   "id": "5171eaa4",
   "metadata": {},
   "outputs": [
    {
     "name": "stdout",
     "output_type": "stream",
     "text": [
      "              precision    recall  f1-score   support\n",
      "\n",
      "           0       1.00      0.71      0.83        14\n",
      "           1       0.63      0.94      0.76        18\n",
      "           2       0.88      0.54      0.67        13\n",
      "\n",
      "    accuracy                           0.76        45\n",
      "   macro avg       0.83      0.73      0.75        45\n",
      "weighted avg       0.82      0.76      0.75        45\n",
      "\n"
     ]
    }
   ],
   "source": [
    "rep = mt.classification_report(y_test, y_pred) # precision과 recall을 함께 보여줌\n",
    "\n",
    "print(rep)"
   ]
  },
  {
   "cell_type": "markdown",
   "id": "c1328716",
   "metadata": {},
   "source": [
    "## 다층퍼셉트론"
   ]
  },
  {
   "cell_type": "code",
   "execution_count": 50,
   "id": "39dbc49e",
   "metadata": {},
   "outputs": [],
   "source": [
    "import sklearn.neural_network as nn\n",
    "\n",
    "ppn_clf = nn.MLPClassifier(learning_rate_init=0.1, max_iter=1000, activation='relu',hidden_layer_sizes=(50,40,30))"
   ]
  },
  {
   "cell_type": "code",
   "execution_count": 51,
   "id": "95cb4769",
   "metadata": {},
   "outputs": [
    {
     "name": "stdout",
     "output_type": "stream",
     "text": [
      "정확도= 0.8\n",
      "[[14  0  0]\n",
      " [ 0  9  9]\n",
      " [ 0  0 13]]\n",
      "\n",
      "              precision    recall  f1-score   support\n",
      "\n",
      "           0       1.00      1.00      1.00        14\n",
      "           1       1.00      0.50      0.67        18\n",
      "           2       0.59      1.00      0.74        13\n",
      "\n",
      "    accuracy                           0.80        45\n",
      "   macro avg       0.86      0.83      0.80        45\n",
      "weighted avg       0.88      0.80      0.79        45\n",
      "\n"
     ]
    }
   ],
   "source": [
    "clf = ppn_clf.fit(X_train, y_train)\n",
    "\n",
    "y_pred = clf.predict(X_test)\n",
    "\n",
    "print(\"정확도=\", mt.accuracy_score(y_test, y_pred))\n",
    "print(mt.confusion_matrix(y_test, y_pred))\n",
    "print()\n",
    "print(mt.classification_report(y_test, y_pred))"
   ]
  }
 ],
 "metadata": {
  "kernelspec": {
   "display_name": "Python 3",
   "language": "python",
   "name": "python3"
  },
  "language_info": {
   "codemirror_mode": {
    "name": "ipython",
    "version": 3
   },
   "file_extension": ".py",
   "mimetype": "text/x-python",
   "name": "python",
   "nbconvert_exporter": "python",
   "pygments_lexer": "ipython3",
   "version": "3.8.8"
  }
 },
 "nbformat": 4,
 "nbformat_minor": 5
}
